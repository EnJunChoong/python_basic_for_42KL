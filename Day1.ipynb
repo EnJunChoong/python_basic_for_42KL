{
 "metadata": {
  "language_info": {
   "codemirror_mode": {
    "name": "ipython",
    "version": 3
   },
   "file_extension": ".py",
   "mimetype": "text/x-python",
   "name": "python",
   "nbconvert_exporter": "python",
   "pygments_lexer": "ipython3",
   "version": "3.7.6-final"
  },
  "orig_nbformat": 2,
  "kernelspec": {
   "name": "python3",
   "display_name": "Python 3",
   "language": "python"
  }
 },
 "nbformat": 4,
 "nbformat_minor": 2,
 "cells": [
  {
   "source": [
    "# Day 1: HELLO WORLD \n",
    "This notebook covers\n",
    "* [Print](#Print)\n",
    "* [Data Types and Variables](#Data_Types_and_Variables)\n",
    "* Arithmatic Operators\n",
    "* Conditional Operators\n",
    "* If Else Operations\n",
    "* Comments and Indentations\n"
   ],
   "cell_type": "markdown",
   "metadata": {}
  },
  {
   "source": [
    "<a id='Print'></a>\n",
    "## Your First Python Program!\n"
   ],
   "cell_type": "markdown",
   "metadata": {}
  },
  {
   "cell_type": "code",
   "execution_count": 1,
   "metadata": {},
   "outputs": [
    {
     "output_type": "stream",
     "name": "stdout",
     "text": [
      "Hello World!\n"
     ]
    }
   ],
   "source": [
    "print(\"Hello World!\")"
   ]
  },
  {
   "cell_type": "code",
   "execution_count": 2,
   "metadata": {},
   "outputs": [
    {
     "output_type": "stream",
     "name": "stdout",
     "text": [
      "\n"
     ]
    }
   ],
   "source": [
    "# Try to print your own name\n",
    "print()"
   ]
  },
  {
   "source": [
    "<a id='Data_Types_and_Variables'></a>\n",
    "## Data Types and Variables\n",
    "### Data Types\n",
    "https://www.w3schools.com/python/python_datatypes.asp\n",
    "\n",
    "* <b>Text</b>:\tstr\n",
    "* <b>Numeric</b>:\tint, float, complex, long, etc\n",
    "* Sequence:\tlist, tuple, range\n",
    "* Mapping:\tdict\n",
    "* Set:\tset (mutable), frozenset (immutable)\n",
    "* Boolean:\tbool\n",
    "* Binary:\tbytes, bytearray, memoryview\n",
    "\n",
    "note: mutable means values can be changes, immutable means values cannot be changes"
   ],
   "cell_type": "markdown",
   "metadata": {}
  },
  {
   "source": [
    "### Variables\n",
    "In Python, the data and the data type is set and stored in computer memory (ram) when you assigned it to a variable.\n"
   ],
   "cell_type": "markdown",
   "metadata": {}
  },
  {
   "cell_type": "code",
   "execution_count": 52,
   "metadata": {},
   "outputs": [
    {
     "output_type": "stream",
     "name": "stdout",
     "text": [
      "10.1\njohn\n"
     ]
    }
   ],
   "source": [
    "a = 15\n",
    "b = 10.1\n",
    "name = 'john'\n",
    "school = '42KL'\n",
    "\n",
    "print(b)\n",
    "print(name)"
   ]
  },
  {
   "source": [
    "the data in a variable can be reassigned to a different value"
   ],
   "cell_type": "markdown",
   "metadata": {}
  },
  {
   "cell_type": "code",
   "execution_count": 55,
   "metadata": {},
   "outputs": [
    {
     "output_type": "stream",
     "name": "stdout",
     "text": [
      "15\n20\n"
     ]
    }
   ],
   "source": [
    "print (a)\n",
    "\n",
    "# reassign a to 20\n",
    "a = 20\n",
    "print(a)"
   ]
  },
  {
   "cell_type": "code",
   "execution_count": null,
   "metadata": {},
   "outputs": [],
   "source": [
    "<a id='Variables'></a>\n",
    "## Variables\n",
    "In Python, the data type is set when you assign a value to a variable"
   ]
  },
  {
   "cell_type": "code",
   "execution_count": null,
   "metadata": {},
   "outputs": [],
   "source": []
  },
  {
   "source": [
    "### Text\n",
    "Text in Python is called String. To create a string, you need to enclose the text within two single quotes or two double quotes"
   ],
   "cell_type": "markdown",
   "metadata": {}
  },
  {
   "cell_type": "code",
   "execution_count": 34,
   "metadata": {},
   "outputs": [
    {
     "output_type": "execute_result",
     "data": {
      "text/plain": [
       "'hello world'"
      ]
     },
     "metadata": {},
     "execution_count": 34
    }
   ],
   "source": [
    "# Using single quotes to create string\n",
    "'hello world'"
   ]
  },
  {
   "cell_type": "code",
   "execution_count": 35,
   "metadata": {},
   "outputs": [
    {
     "output_type": "execute_result",
     "data": {
      "text/plain": [
       "'hello world'"
      ]
     },
     "metadata": {},
     "execution_count": 35
    }
   ],
   "source": [
    "# Using double quotes to create string\n",
    "\"hello world\""
   ]
  },
  {
   "source": [
    "Long strings or multi-lines string can also be created by enclosing the text with three quotes.\n",
    "<br>Escape Characters like \\n are part of the string and python interpret it as new line"
   ],
   "cell_type": "markdown",
   "metadata": {}
  },
  {
   "cell_type": "code",
   "execution_count": 32,
   "metadata": {},
   "outputs": [
    {
     "output_type": "execute_result",
     "data": {
      "text/plain": [
       "'\\nHello world 1\\nHello world 2\\nHello world 3\\n'"
      ]
     },
     "metadata": {},
     "execution_count": 32
    }
   ],
   "source": [
    "# Multi-lines string using triple quotes\n",
    "\"\"\"\n",
    "Hello world 1\n",
    "Hello world 2\n",
    "Hello world 3\n",
    "\"\"\"\n"
   ]
  },
  {
   "source": [
    "### Numbers or Numeric\n",
    "1. Integer -  unsigned whole numbers such as 1,2,3, -10, -21, -99999\n",
    "2. Float - unsigned decimal numbers such as 1.0, 22.1, 3.5\n"
   ],
   "cell_type": "markdown",
   "metadata": {}
  },
  {
   "source": [
    "Integer are simply created as you type them. If you need to specify the type, you need to use int() or float()."
   ],
   "cell_type": "markdown",
   "metadata": {}
  },
  {
   "cell_type": "code",
   "execution_count": 46,
   "metadata": {},
   "outputs": [
    {
     "output_type": "stream",
     "name": "stdout",
     "text": [
      "1\n<class 'int'>\n1.0\n<class 'float'>\n"
     ]
    }
   ],
   "source": [
    "print(1)\n",
    "print(type(1))\n",
    "print(float(1))\n",
    "print(type(float(1)))\n",
    "\n",
    "print(1.1)\n",
    "print(type(1.1))\n",
    "print(float(1.1))\n",
    "print(type(float(1)))\n"
   ]
  },
  {
   "cell_type": "code",
   "execution_count": null,
   "metadata": {},
   "outputs": [],
   "source": []
  },
  {
   "source": [
    "<a id='Variables'></a>\n",
    "## Variables\n",
    "In Python, the data type is set when you assign a value to a variable"
   ],
   "cell_type": "markdown",
   "metadata": {}
  },
  {
   "source": [
    "Variable is craete by assigning a value"
   ],
   "cell_type": "markdown",
   "metadata": {}
  },
  {
   "cell_type": "code",
   "execution_count": 17,
   "metadata": {},
   "outputs": [
    {
     "output_type": "stream",
     "name": "stdout",
     "text": [
      "5\n<class 'int'>\n"
     ]
    }
   ],
   "source": [
    "x = 5\n",
    "print(x)\n",
    "print(type(x))"
   ]
  },
  {
   "cell_type": "code",
   "execution_count": 19,
   "metadata": {},
   "outputs": [
    {
     "output_type": "stream",
     "name": "stdout",
     "text": [
      "john\n<class 'str'>\n"
     ]
    }
   ],
   "source": [
    "name = 'john'\n",
    "print(name)\n",
    "print(type(name))"
   ]
  },
  {
   "cell_type": "code",
   "execution_count": null,
   "metadata": {},
   "outputs": [],
   "source": []
  },
  {
   "source": [
    "<a id='Input'></a>\n",
    "# Using User Input"
   ],
   "cell_type": "markdown",
   "metadata": {}
  },
  {
   "cell_type": "code",
   "execution_count": null,
   "metadata": {},
   "outputs": [],
   "source": []
  },
  {
   "cell_type": "code",
   "execution_count": null,
   "metadata": {},
   "outputs": [],
   "source": []
  },
  {
   "cell_type": "code",
   "execution_count": 5,
   "metadata": {},
   "outputs": [],
   "source": [
    "x = input()"
   ]
  },
  {
   "cell_type": "code",
   "execution_count": 6,
   "metadata": {},
   "outputs": [
    {
     "output_type": "execute_result",
     "data": {
      "text/plain": [
       "'10'"
      ]
     },
     "metadata": {},
     "execution_count": 6
    }
   ],
   "source": [
    "x"
   ]
  },
  {
   "cell_type": "code",
   "execution_count": null,
   "metadata": {},
   "outputs": [],
   "source": []
  }
 ]
}