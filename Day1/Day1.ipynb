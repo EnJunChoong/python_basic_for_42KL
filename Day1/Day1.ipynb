{
 "cells": [
  {
   "cell_type": "markdown",
   "metadata": {},
   "source": [
    "# Day 1: HELLO WORLD \n",
    "This notebook covers\n",
    "* [Print](#Print)\n",
    "* [Variables](#Variables)\n",
    "* [Data Types](#Data_Types)\n",
    "* [Arithmetic Operators](#Arithmetic_Operators)\n",
    "* [Input](#Input)\n",
    "* [Exercise](#Exercise)\n"
   ]
  },
  {
   "cell_type": "markdown",
   "metadata": {},
   "source": [
    "<a id='Print'></a>\n",
    "## Your First Python Program!\n"
   ]
  },
  {
   "cell_type": "code",
   "execution_count": 1,
   "metadata": {},
   "outputs": [
    {
     "name": "stdout",
     "output_type": "stream",
     "text": [
      "Hello World!\n"
     ]
    }
   ],
   "source": [
    "print(\"Hello World!\")"
   ]
  },
  {
   "cell_type": "code",
   "execution_count": 2,
   "metadata": {},
   "outputs": [
    {
     "name": "stdout",
     "output_type": "stream",
     "text": [
      "\n"
     ]
    }
   ],
   "source": [
    "# Try to print your own name\n",
    "print()"
   ]
  },
  {
   "cell_type": "markdown",
   "metadata": {},
   "source": [
    "<a id='Variables'></a>\n",
    "### Variables\n",
    "In Python, the data and the data type is set and stored in computer memory (ram) when you assigned it to a variable.\n"
   ]
  },
  {
   "cell_type": "code",
   "execution_count": 52,
   "metadata": {},
   "outputs": [
    {
     "name": "stdout",
     "output_type": "stream",
     "text": [
      "10.1\n",
      "john\n"
     ]
    }
   ],
   "source": [
    "a = 15\n",
    "b = 10.1\n",
    "name = 'john'\n",
    "school = '42KL'\n",
    "\n",
    "print(b)\n",
    "print(name)"
   ]
  },
  {
   "cell_type": "markdown",
   "metadata": {},
   "source": [
    "the data in a variable can be reassigned to a different value"
   ]
  },
  {
   "cell_type": "code",
   "execution_count": 55,
   "metadata": {},
   "outputs": [
    {
     "name": "stdout",
     "output_type": "stream",
     "text": [
      "15\n",
      "20\n"
     ]
    }
   ],
   "source": [
    "print (a)\n",
    "\n",
    "# reassign a to 20\n",
    "a = 20\n",
    "print(a)"
   ]
  },
  {
   "cell_type": "markdown",
   "metadata": {},
   "source": [
    "Explore printing using variables and string formatting"
   ]
  },
  {
   "cell_type": "code",
   "execution_count": 78,
   "metadata": {},
   "outputs": [
    {
     "name": "stdout",
     "output_type": "stream",
     "text": [
      "1\n",
      "1 2 3\n",
      "a: 1 ,b: 2 ,c: 3\n",
      "a: 1, b: 2, c: 3\n",
      "a: 1, b: 2, c: 3\n"
     ]
    }
   ],
   "source": [
    "a = 1\n",
    "b = 2\n",
    "c = 3\n",
    "print(a)\n",
    "print(a,b,c)\n",
    "print('a:',a, ',b:', b, ',c:', c)\n",
    "\n",
    "# Or print using string formatting for more readability\n",
    "print(f'a: {a}, b: {b}, c: {c}')\n",
    "print('a: {}, b: {}, c: {}'.format(a,b,c))"
   ]
  },
  {
   "cell_type": "markdown",
   "metadata": {},
   "source": [
    "<a id='Data_Types'></a>\n",
    "### Data Types\n",
    "https://www.w3schools.com/python/python_datatypes.asp\n",
    "\n",
    "* <b>Text</b>:\tstr\n",
    "* <b>Numeric</b>:\tint, float, complex, long, etc\n",
    "* Sequence:\tlist, tuple, range\n",
    "* Mapping:\tdict\n",
    "* Set:\tset (mutable), frozenset (immutable)\n",
    "* Boolean:\tbool\n",
    "* Binary:\tbytes, bytearray, memoryview\n",
    "\n",
    "note: mutable means values can be changes, immutable means values cannot be changes"
   ]
  },
  {
   "cell_type": "markdown",
   "metadata": {},
   "source": [
    "### Text\n",
    "Text in Python is called String. To create a string, you need to enclose the text within two single quotes or two double quotes"
   ]
  },
  {
   "cell_type": "code",
   "execution_count": 59,
   "metadata": {},
   "outputs": [
    {
     "name": "stdout",
     "output_type": "stream",
     "text": [
      "hello world\n",
      "hello world\n",
      "hello world\n",
      "All three wayscreate the same string output\n"
     ]
    }
   ],
   "source": [
    "# Using single quotes to create string\n",
    "a = 'hello world'\n",
    "# Using double quotes to create string\n",
    "b = \"hello world\"\n",
    "# Using python built-in str function\n",
    "c = str('hello world')\n",
    "\n",
    "print(a)\n",
    "print(b)\n",
    "print(c)\n",
    "print('All three wayscreate the same string output')"
   ]
  },
  {
   "cell_type": "markdown",
   "metadata": {},
   "source": [
    "You can also create a long string or mix single and double quotes by enclosing the text in three quotes before and after.\n",
    "<br> Escape characters like \\n and \\\" are part of strings and represent different things like \\n is a new line, \\\" is literal \""
   ]
  },
  {
   "cell_type": "code",
   "execution_count": 61,
   "metadata": {},
   "outputs": [
    {
     "data": {
      "text/plain": [
       "'\\nHello world 1\\nHello world 2\\nHello world 3\\n42KL\\'s first \"cohort\"\\n'"
      ]
     },
     "execution_count": 61,
     "metadata": {},
     "output_type": "execute_result"
    }
   ],
   "source": [
    "# Multi-lines string using triple quotes\n",
    "\"\"\"\n",
    "Hello world 1\n",
    "Hello world 2\n",
    "Hello world 3\n",
    "42KL's first \"cohort\"\n",
    "\"\"\"\n"
   ]
  },
  {
   "cell_type": "markdown",
   "metadata": {},
   "source": [
    "### Numbers or Numeric\n",
    "1. Integer -  unsigned whole numbers such as 1,2,3, -10, -21, -99999\n",
    "2. Float - unsigned decimal numbers such as 1.0, 22.1, 3.5\n",
    "\n",
    "Integer are simply created as you type them. If you need to specify the type, you need to use int() or float(). Note that using int() will round off the value to the closest integer.\n"
   ]
  },
  {
   "cell_type": "code",
   "execution_count": 67,
   "metadata": {},
   "outputs": [
    {
     "name": "stdout",
     "output_type": "stream",
     "text": [
      "1\n",
      "1\n",
      "1\n",
      "1.0\n"
     ]
    }
   ],
   "source": [
    "a = '1'\n",
    "b = 1\n",
    "c = int(1)\n",
    "d = float(1)\n",
    "\n",
    "print(a)\n",
    "print(b)\n",
    "print(c)\n",
    "print(d)"
   ]
  },
  {
   "cell_type": "code",
   "execution_count": 63,
   "metadata": {},
   "outputs": [
    {
     "name": "stdout",
     "output_type": "stream",
     "text": [
      "1\n",
      "<class 'int'>\n",
      "1.0\n",
      "<class 'float'>\n"
     ]
    }
   ],
   "source": [
    "print(1)\n",
    "print(type(1))\n",
    "\n",
    "# convert int to float\n",
    "print(float(1))\n",
    "print(type(float(1)))\n"
   ]
  },
  {
   "cell_type": "code",
   "execution_count": 68,
   "metadata": {},
   "outputs": [
    {
     "name": "stdout",
     "output_type": "stream",
     "text": [
      "1.1\n",
      "<class 'float'>\n",
      "1\n",
      "<class 'int'>\n",
      "notice how 1.1 is rounded down to 1\n"
     ]
    }
   ],
   "source": [
    "print(1.1)\n",
    "print(type(1.1))\n",
    "\n",
    "# Convert float to int. \n",
    "print(int(1.1))\n",
    "print(type(int(1)))\n",
    "print('notice how 1.1 is rounded down to 1')"
   ]
  },
  {
   "cell_type": "markdown",
   "metadata": {},
   "source": [
    "<a id='Arithmetic_Operators'></a>\n",
    "## Arithmetic Operators\n",
    "<table align=\"left\">\n",
    "<col style=\"width:20%\">\n",
    "<col style=\"width:30%\">\n",
    "<col style=\"width:30%\">\n",
    "<tbody><tr>\n",
    "<th align=\"left\">Operator</th>\n",
    "<th align=\"left\">Name</th>\n",
    "<th align=\"left\">Example</th>\n",
    "</tr>\n",
    "<tr>\n",
    "<td>+</td>\n",
    "<td>Addition</td>\n",
    "<td>x + y</td>\n",
    "</tr>\n",
    "<tr>\n",
    "<td>-</td>\n",
    "<td>Subtraction</td>\n",
    "<td>x - y</td>\n",
    "</tr>\n",
    "<tr>\n",
    "<td>*</td>\n",
    "<td>Multiplication</td>\n",
    "<td>x * y</td>\n",
    "</tr>\n",
    "<tr>\n",
    "<td>/</td>\n",
    "<td>Division</td>\n",
    "<td>x / y</td>\n",
    "</tr>\n",
    "<tr>\n",
    "<td>%</td>\n",
    "<td>Modulus</td>\n",
    "<td>x % y</td>\n",
    "</tr>\n",
    "  <tr>\n",
    "<td>**</td>\n",
    "<td>Exponentiation</td>\n",
    "<td>x ** y</td>\n",
    "  </tr>\n",
    "<tr>\n",
    "<td>//</td>\n",
    "<td>Floor division</td>\n",
    "<td>x // y</td>\n",
    "</tr>\n",
    "</tbody></table>"
   ]
  },
  {
   "cell_type": "code",
   "execution_count": 85,
   "metadata": {},
   "outputs": [
    {
     "name": "stdout",
     "output_type": "stream",
     "text": [
      "1 + 2 = 3\n"
     ]
    }
   ],
   "source": [
    "# Addition\n",
    "a = 1\n",
    "b = 2\n",
    "c = a + b\n",
    "\n",
    "print(f'{a} + {b} = {c}')\n"
   ]
  },
  {
   "cell_type": "code",
   "execution_count": 86,
   "metadata": {},
   "outputs": [
    {
     "name": "stdout",
     "output_type": "stream",
     "text": [
      "1 - 2 = -1\n"
     ]
    }
   ],
   "source": [
    "# Subtraction\n",
    "a = 1\n",
    "b = 2\n",
    "c = a - b\n",
    "\n",
    "print(f'{a} - {b} = {c}')"
   ]
  },
  {
   "cell_type": "code",
   "execution_count": 87,
   "metadata": {},
   "outputs": [
    {
     "name": "stdout",
     "output_type": "stream",
     "text": [
      "1 * 2 = 2\n"
     ]
    }
   ],
   "source": [
    "# Multiplication\n",
    "a = 1\n",
    "b = 2\n",
    "c = a * b\n",
    "\n",
    "print(f'{a} * {b} = {c}')"
   ]
  },
  {
   "cell_type": "code",
   "execution_count": 92,
   "metadata": {},
   "outputs": [
    {
     "name": "stdout",
     "output_type": "stream",
     "text": [
      "1 / 2 = 0.5\n",
      "Notice the result of the division is converted to float type automatically if needed\n"
     ]
    }
   ],
   "source": [
    "# Division\n",
    "a = 1\n",
    "b = 2\n",
    "c = a / b\n",
    "\n",
    "print(f'{a} / {b} = {c}')\n",
    "print('Notice the result of the division is converted to float type automatically if needed')"
   ]
  },
  {
   "cell_type": "code",
   "execution_count": 95,
   "metadata": {},
   "outputs": [
    {
     "name": "stdout",
     "output_type": "stream",
     "text": [
      "11 % 2 = 1\n"
     ]
    }
   ],
   "source": [
    "# Modulus\n",
    "# Modulus return the remainder of a division operation\n",
    "a = 11\n",
    "b = 2\n",
    "c = a % b\n",
    "\n",
    "print(f'{a} % {b} = {c}')"
   ]
  },
  {
   "cell_type": "code",
   "execution_count": 97,
   "metadata": {},
   "outputs": [
    {
     "name": "stdout",
     "output_type": "stream",
     "text": [
      "2 ** 2 = 4\n"
     ]
    }
   ],
   "source": [
    "# Exponential or Power of\n",
    "a = 2\n",
    "b = 2\n",
    "c = a ** b\n",
    "\n",
    "print(f'{a} ** {b} = {c}')"
   ]
  },
  {
   "cell_type": "code",
   "execution_count": 99,
   "metadata": {},
   "outputs": [
    {
     "name": "stdout",
     "output_type": "stream",
     "text": [
      "20 // 3 = 6\n",
      "Floor division return only integer of the division, ignoring any remainder\n"
     ]
    }
   ],
   "source": [
    "# Floor Division\n",
    "a = 20\n",
    "b = 3\n",
    "c = a // b\n",
    "\n",
    "print(f'{a} // {b} = {c}')\n",
    "print('Floor division return only integer of the division, ignoring any remainder')"
   ]
  },
  {
   "cell_type": "code",
   "execution_count": null,
   "metadata": {},
   "outputs": [],
   "source": []
  },
  {
   "cell_type": "markdown",
   "metadata": {},
   "source": [
    "<a id='Input'></a>\n",
    "## Using User Input\n",
    "When we write a program, we often need the user to input their data. Maybe we want them to input their name so we can greet them.\n",
    "\n",
    "input() is a built-in  Python function to prompt for user input."
   ]
  },
  {
   "cell_type": "code",
   "execution_count": 104,
   "metadata": {},
   "outputs": [
    {
     "name": "stdout",
     "output_type": "stream",
     "text": [
      "Help on method raw_input in module ipykernel.kernelbase:\n",
      "\n",
      "raw_input(prompt='') method of ipykernel.ipkernel.IPythonKernel instance\n",
      "    Forward raw_input to frontends\n",
      "    \n",
      "    Raises\n",
      "    ------\n",
      "    StdinNotImplentedError if active frontend doesn't support stdin.\n",
      "\n"
     ]
    }
   ],
   "source": [
    "# We can find out how to use a function using help\n",
    "help(input)"
   ]
  },
  {
   "cell_type": "code",
   "execution_count": 106,
   "metadata": {},
   "outputs": [],
   "source": [
    "# Prompt user to input their name and assign it to variable called \"name\"\n",
    "name = input('Please state your name')"
   ]
  },
  {
   "cell_type": "code",
   "execution_count": 107,
   "metadata": {},
   "outputs": [
    {
     "name": "stdout",
     "output_type": "stream",
     "text": [
      "lala\n"
     ]
    }
   ],
   "source": [
    "# Now the input from the user is stored in variable \"name\", and we can access it anytime we want\n",
    "print(name)"
   ]
  },
  {
   "cell_type": "markdown",
   "metadata": {},
   "source": [
    "<a id='Exercise'></a>\n",
    "## Exercise\n",
    "Using what we learned about data types, variables, input promp, arithmetic operators and string formatting, create a program that\n",
    "\n",
    "\n",
    "1. Take input from user in Fahrenheit. \n",
    "2. Make sure data type is handled.\n",
    "3. Perform conversion from Fahrenheit to Celsius\n",
    "4. Print Celsius result\n",
    "\n",
    "note: Fahrenheit to Celsius conversion formula is (Fahrenheit_value − 32) × 5/9"
   ]
  },
  {
   "cell_type": "code",
   "execution_count": 3,
   "metadata": {},
   "outputs": [
    {
     "name": "stdout",
     "output_type": "stream",
     "text": [
      "32.0 degree Fahrenheit is equal to 0.0 degree Celsius\n"
     ]
    }
   ],
   "source": [
    "degF = input('Please state temperature in Fahrenheit')\n",
    "degF = float(degF)\n",
    "degC = (degF - 32) * 5 / 9\n",
    "print(f'{degF} degree Fahrenheit is equal to {degC} degree Celsius')"
   ]
  },
  {
   "cell_type": "code",
   "execution_count": null,
   "metadata": {},
   "outputs": [],
   "source": []
  }
 ],
 "metadata": {
  "kernelspec": {
   "display_name": "Python 3",
   "language": "python",
   "name": "python3"
  },
  "language_info": {
   "codemirror_mode": {
    "name": "ipython",
    "version": 3
   },
   "file_extension": ".py",
   "mimetype": "text/x-python",
   "name": "python",
   "nbconvert_exporter": "python",
   "pygments_lexer": "ipython3",
   "version": "3.7.6"
  }
 },
 "nbformat": 4,
 "nbformat_minor": 4
}
